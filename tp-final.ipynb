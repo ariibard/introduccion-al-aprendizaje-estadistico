{
 "cells": [
  {
   "attachments": {},
   "cell_type": "markdown",
   "metadata": {},
   "source": [
    "# Introducción al Aprendizaje Estadístico\n",
    "## Trabajo Práctico final\n",
    "\n",
    "**Alumnos**: Ariana Bardauil, Adrian, Gustavo\n",
    "\n",
    "### Objetivo.\n",
    "El presente trabajo tiene como finalidad la integración y aplicación de las técnicas estudiadas durante la materia\n",
    "como así también la aplicación correcta de los algoritmos.\n",
    "### Fecha de entrega.\n",
    "Miércoles 12 de julio del 2023.\n",
    "\n",
    "### Condiciones.\n",
    "El trabajo debe ser grupal (mínimo 2 - máximo 3).\n",
    "\n",
    "### Entregable.\n",
    "1. Un análisis escrito con los requerimientos por parte.\n",
    "2. Notebook con el código en Python de los análisis realizados.\n",
    "3. Se entregará al correo jeremiasmorlandi@gmail.com con el asunto “TP Integrador” y los apellidos de los\n",
    "integrantes.\n",
    "\n",
    "\n",
    "## Consignas.\n",
    "El trabajo será un informe estadístico de 3 segmentos que contenga la respuesta a los siguientes conceptos. Van analizar los\n",
    "datos del conjunto de datos “Buenos Aires Airbnb Open Data”. (Link al Kaggle)\n",
    "\n",
    "### PARTE I. Estadística descriptiva.\n",
    "* ¿Qué columnas tiene?¿Qué tipo de columnas son?\n",
    "* Análisis y aplicación de Medidas de Tendencia Central.\n",
    "*  Análisis y aplicación de Medidas de Dispersión.\n",
    "*  Análisis de covarianza entre las variables.\n",
    "\n",
    "*Se sugiere incluir visualizaciones que acompañen el informe.*\n"
   ]
  },
  {
   "cell_type": "code",
   "execution_count": null,
   "metadata": {},
   "outputs": [],
   "source": []
  },
  {
   "attachments": {},
   "cell_type": "markdown",
   "metadata": {},
   "source": [
    "### PARTE II. Modelado supervisado.\n",
    "Se les solicita generar dos modelos de aprendizaje supervisado.\n",
    "* Modelo que prediga el precio.\n",
    "* Modelo que prediga el barrio.\n",
    "* Seleccionar variables y aplicar modelos de aprendizaje supervisado de acuerdo a la\n",
    "combinación de variables encontradas.\n",
    "* Incluir las métricas de evaluación y fundamentos de por qué se seleccionaron las variables\n",
    "predictoras.\n"
   ]
  },
  {
   "attachments": {},
   "cell_type": "markdown",
   "metadata": {},
   "source": [
    "### PARTE III. Modelado no supervisado.\n",
    "Se les solicita generar un modelo de agrupamiento.\n",
    "* Implementar el modelo de acuerdo a las variables de agrupamiento o predictoras que consideren\n",
    "mejor.\n",
    "* Evaluar cuál es el mejor número de clusters para agrupar el conjunto de dato"
   ]
  }
 ],
 "metadata": {
  "language_info": {
   "name": "python"
  },
  "orig_nbformat": 4
 },
 "nbformat": 4,
 "nbformat_minor": 2
}
